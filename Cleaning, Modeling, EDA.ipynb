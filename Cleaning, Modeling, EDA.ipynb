{
 "cells": [
  {
   "cell_type": "code",
   "execution_count": 2,
   "metadata": {},
   "outputs": [],
   "source": [
    "import pandas as pd\n",
    "import numpy as np\n",
    "import matplotlib.pyplot as plt\n",
    "import seaborn as sns\n",
    "import re, regex\n",
    "from sklearn.model_selection import train_test_split, GridSearchCV\n",
    "from sklearn.feature_extraction.text import CountVectorizer\n",
    "from sklearn.naive_bayes import MultinomialNB\n",
    "from sklearn.pipeline import Pipeline\n",
    "from sklearn.metrics import confusion_matrix, plot_confusion_matrix\n",
    "from sklearn.ensemble import RandomForestClassifier\n"
   ]
  },
  {
   "cell_type": "markdown",
   "metadata": {},
   "source": [
    "# Executive Summary"
   ]
  },
  {
   "cell_type": "markdown",
   "metadata": {},
   "source": [
    "Blizzard Entertainment, One of the world's most successful video companies, has asked us to help them with hero balance in their popular online video game, Overwatch.\n",
    "\n",
    "Overwatch is a popular 6 vs 6 hero shooter where every hero has a unique set of flashy abilites. Some can fly, teleport, or deflect bullets. But because of this, Overwatch is inherently a difficult game to balance. As such, community feedback is important to the balance of the game and making it more fun. However, there are thousands of Overwatch players, each with different opinions about how the game should be balanced. We can't possbily listen to all of them. We need to prioritize what the community at large feels is the right direction for the game.\n",
    "\n",
    "Community feedback on Overwatch is all over the internet. Websites like reddit are a gold mine of information that we can use to get a gauge of how players feel. We just need to extract that feedback, figure out which heroes are commonly discussed, identify problems that community has, and come to a conclusion about the next step blizzard should take in balancing their game.\n",
    "\n",
    "As a seasoned veteran of Overwatch and an expert Data scientist, I can get the job done. I understand how the game is played and I'm somewhat connected to the overwatch community.\n",
    "\n",
    "I've played Overwatch since the day it was released. I love playing the game and I want to keep it fun for as many people as possible and for as long as possible. So let's take game balance to the next level!\n",
    "\n",
    "\n",
    "\n"
   ]
  },
  {
   "cell_type": "code",
   "execution_count": 3,
   "metadata": {},
   "outputs": [
    {
     "name": "stderr",
     "output_type": "stream",
     "text": [
      "/opt/anaconda3/lib/python3.7/site-packages/IPython/core/interactiveshell.py:3063: DtypeWarning: Columns (82,84,87,88) have mixed types.Specify dtype option on import or set low_memory=False.\n",
      "  interactivity=interactivity, compiler=compiler, result=result)\n"
     ]
    }
   ],
   "source": [
    "ow = pd.read_csv('./datasets/overwatch.csv')"
   ]
  },
  {
   "cell_type": "code",
   "execution_count": 4,
   "metadata": {},
   "outputs": [
    {
     "name": "stderr",
     "output_type": "stream",
     "text": [
      "/opt/anaconda3/lib/python3.7/site-packages/IPython/core/interactiveshell.py:3063: DtypeWarning: Columns (81,82) have mixed types.Specify dtype option on import or set low_memory=False.\n",
      "  interactivity=interactivity, compiler=compiler, result=result)\n"
     ]
    }
   ],
   "source": [
    "wow = pd.read_csv('./datasets/wow.csv')"
   ]
  },
  {
   "cell_type": "code",
   "execution_count": 5,
   "metadata": {},
   "outputs": [
    {
     "name": "stdout",
     "output_type": "stream",
     "text": [
      "(40000, 89)\n",
      "(40000, 83)\n"
     ]
    }
   ],
   "source": [
    "print(ow.shape)\n",
    "print(wow.shape)"
   ]
  },
  {
   "cell_type": "markdown",
   "metadata": {},
   "source": [
    "# EDA"
   ]
  },
  {
   "cell_type": "code",
   "execution_count": 6,
   "metadata": {},
   "outputs": [],
   "source": [
    "def dist_analysis(df):\n",
    "    df_selftext = df['selftext']\n",
    "    df_selftext = df_selftext.loc[(df_selftext != '[removed]') & (df_selftext != '[deleted]')].dropna()\n",
    "    print('Posts with self text: ',df_selftext.shape[0])\n",
    "    df_word_dist = df_selftext.map(lambda x:x.split()).map(len)\n",
    "    df_length = df_selftext.map(len)\n",
    "    return df_word_dist, df_length"
   ]
  },
  {
   "cell_type": "code",
   "execution_count": 7,
   "metadata": {},
   "outputs": [
    {
     "name": "stdout",
     "output_type": "stream",
     "text": [
      "Posts with self text:  11061\n",
      "Posts with self text:  24140\n"
     ]
    }
   ],
   "source": [
    "ow_word_dist, ow_length = dist_analysis(ow)\n",
    "wow_word_dist, wow_length = dist_analysis(wow)"
   ]
  },
  {
   "cell_type": "markdown",
   "metadata": {},
   "source": [
    "About a quarter of all overwatch subreddit posts have text other than in the title.\n",
    "For the WOW subreddit, half of the posts have text."
   ]
  },
  {
   "cell_type": "code",
   "execution_count": 8,
   "metadata": {},
   "outputs": [
    {
     "data": {
      "text/html": [
       "<div>\n",
       "<style scoped>\n",
       "    .dataframe tbody tr th:only-of-type {\n",
       "        vertical-align: middle;\n",
       "    }\n",
       "\n",
       "    .dataframe tbody tr th {\n",
       "        vertical-align: top;\n",
       "    }\n",
       "\n",
       "    .dataframe thead th {\n",
       "        text-align: right;\n",
       "    }\n",
       "</style>\n",
       "<table border=\"1\" class=\"dataframe\">\n",
       "  <thead>\n",
       "    <tr style=\"text-align: right;\">\n",
       "      <th></th>\n",
       "      <th>OW</th>\n",
       "      <th>WOW</th>\n",
       "    </tr>\n",
       "  </thead>\n",
       "  <tbody>\n",
       "    <tr>\n",
       "      <th>count</th>\n",
       "      <td>11061.000000</td>\n",
       "      <td>24140.000000</td>\n",
       "    </tr>\n",
       "    <tr>\n",
       "      <th>mean</th>\n",
       "      <td>90.465329</td>\n",
       "      <td>98.329412</td>\n",
       "    </tr>\n",
       "    <tr>\n",
       "      <th>std</th>\n",
       "      <td>181.809652</td>\n",
       "      <td>162.151763</td>\n",
       "    </tr>\n",
       "    <tr>\n",
       "      <th>min</th>\n",
       "      <td>1.000000</td>\n",
       "      <td>1.000000</td>\n",
       "    </tr>\n",
       "    <tr>\n",
       "      <th>25%</th>\n",
       "      <td>28.000000</td>\n",
       "      <td>32.000000</td>\n",
       "    </tr>\n",
       "    <tr>\n",
       "      <th>50%</th>\n",
       "      <td>52.000000</td>\n",
       "      <td>58.000000</td>\n",
       "    </tr>\n",
       "    <tr>\n",
       "      <th>75%</th>\n",
       "      <td>98.000000</td>\n",
       "      <td>105.000000</td>\n",
       "    </tr>\n",
       "    <tr>\n",
       "      <th>max</th>\n",
       "      <td>6524.000000</td>\n",
       "      <td>3729.000000</td>\n",
       "    </tr>\n",
       "  </tbody>\n",
       "</table>\n",
       "</div>"
      ],
      "text/plain": [
       "                 OW           WOW\n",
       "count  11061.000000  24140.000000\n",
       "mean      90.465329     98.329412\n",
       "std      181.809652    162.151763\n",
       "min        1.000000      1.000000\n",
       "25%       28.000000     32.000000\n",
       "50%       52.000000     58.000000\n",
       "75%       98.000000    105.000000\n",
       "max     6524.000000   3729.000000"
      ]
     },
     "execution_count": 8,
     "metadata": {},
     "output_type": "execute_result"
    }
   ],
   "source": [
    "word_stats = pd.concat([ow_word_dist.describe(), wow_word_dist.describe()], axis = 1)\n",
    "word_stats.columns = ['OW', 'WOW']\n",
    "word_stats"
   ]
  },
  {
   "cell_type": "markdown",
   "metadata": {},
   "source": [
    "Statistics for word count is shown above comparing the two datasets. The numbers show that posts with texts are similar across both data sets in terms of word count. Statistics for character count is shown below. The character count is also very similar across both datasets for posts containing text."
   ]
  },
  {
   "cell_type": "code",
   "execution_count": 9,
   "metadata": {},
   "outputs": [
    {
     "data": {
      "text/html": [
       "<div>\n",
       "<style scoped>\n",
       "    .dataframe tbody tr th:only-of-type {\n",
       "        vertical-align: middle;\n",
       "    }\n",
       "\n",
       "    .dataframe tbody tr th {\n",
       "        vertical-align: top;\n",
       "    }\n",
       "\n",
       "    .dataframe thead th {\n",
       "        text-align: right;\n",
       "    }\n",
       "</style>\n",
       "<table border=\"1\" class=\"dataframe\">\n",
       "  <thead>\n",
       "    <tr style=\"text-align: right;\">\n",
       "      <th></th>\n",
       "      <th>OW</th>\n",
       "      <th>WOW</th>\n",
       "    </tr>\n",
       "  </thead>\n",
       "  <tbody>\n",
       "    <tr>\n",
       "      <th>count</th>\n",
       "      <td>11061.000000</td>\n",
       "      <td>24140.000000</td>\n",
       "    </tr>\n",
       "    <tr>\n",
       "      <th>mean</th>\n",
       "      <td>503.613597</td>\n",
       "      <td>546.215286</td>\n",
       "    </tr>\n",
       "    <tr>\n",
       "      <th>std</th>\n",
       "      <td>1083.394150</td>\n",
       "      <td>931.849280</td>\n",
       "    </tr>\n",
       "    <tr>\n",
       "      <th>min</th>\n",
       "      <td>1.000000</td>\n",
       "      <td>1.000000</td>\n",
       "    </tr>\n",
       "    <tr>\n",
       "      <th>25%</th>\n",
       "      <td>154.000000</td>\n",
       "      <td>175.000000</td>\n",
       "    </tr>\n",
       "    <tr>\n",
       "      <th>50%</th>\n",
       "      <td>281.000000</td>\n",
       "      <td>316.000000</td>\n",
       "    </tr>\n",
       "    <tr>\n",
       "      <th>75%</th>\n",
       "      <td>529.000000</td>\n",
       "      <td>571.000000</td>\n",
       "    </tr>\n",
       "    <tr>\n",
       "      <th>max</th>\n",
       "      <td>38801.000000</td>\n",
       "      <td>22630.000000</td>\n",
       "    </tr>\n",
       "  </tbody>\n",
       "</table>\n",
       "</div>"
      ],
      "text/plain": [
       "                 OW           WOW\n",
       "count  11061.000000  24140.000000\n",
       "mean     503.613597    546.215286\n",
       "std     1083.394150    931.849280\n",
       "min        1.000000      1.000000\n",
       "25%      154.000000    175.000000\n",
       "50%      281.000000    316.000000\n",
       "75%      529.000000    571.000000\n",
       "max    38801.000000  22630.000000"
      ]
     },
     "execution_count": 9,
     "metadata": {},
     "output_type": "execute_result"
    }
   ],
   "source": [
    "len_stats = pd.concat([ow_length.describe(), wow_length.describe()], axis = 1)\n",
    "len_stats.columns = ['OW', 'WOW']\n",
    "len_stats"
   ]
  },
  {
   "cell_type": "code",
   "execution_count": 10,
   "metadata": {},
   "outputs": [
    {
     "data": {
      "text/plain": [
       "Text(0.5, 0, 'Word Count')"
      ]
     },
     "execution_count": 10,
     "metadata": {},
     "output_type": "execute_result"
    },
    {
     "data": {
      "image/png": "[encoded data removed]",
      "text/plain": [
       "<Figure size 720x360 with 2 Axes>"
      ]
     },
     "metadata": {
      "needs_background": "light"
     },
     "output_type": "display_data"
    }
   ],
   "source": [
    "fig, (ax1, ax2) = plt.subplots(1, 2, figsize = (10,5))\n",
    "fig.suptitle('Word Distribution')\n",
    "ax1.hist(ow_word_dist[ow_word_dist < 400])\n",
    "ax2.hist(wow_word_dist[wow_word_dist < 400])\n",
    "ax1.title.set_text('Overwatch')\n",
    "ax2.title.set_text('WOW')\n",
    "ax1.set_xlabel('Word Count')\n",
    "ax2.set_xlabel('Word Count')"
   ]
  },
  {
   "cell_type": "markdown",
   "metadata": {},
   "source": [
    "Similar word distributions for both datasets, shown above. Shown below is the character count distribution. The mean number of words and character length are roughly the same across both datasets. Note that this only includes posts that contains self text. "
   ]
  },
  {
   "cell_type": "code",
   "execution_count": 11,
   "metadata": {},
   "outputs": [
    {
     "data": {
      "image/png": "[encoded data removed]",
      "text/plain": [
       "<Figure size 720x360 with 2 Axes>"
      ]
     },
     "metadata": {
      "needs_background": "light"
     },
     "output_type": "display_data"
    }
   ],
   "source": [
    "fig, (ax1, ax2) = plt.subplots(1, 2, figsize = (10,5))\n",
    "fig.suptitle('Character Length for Posts')\n",
    "ax1.hist(ow_length[ow_length < 2000])\n",
    "ax2.hist(wow_length[wow_length < 2000])\n",
    "ax1.title.set_text('Overwatch')\n",
    "ax2.title.set_text('WOW')\n",
    "ax1.set_xlabel('Character Length')\n",
    "ax2.set_xlabel('Character Length');"
   ]
  },
  {
   "cell_type": "markdown",
   "metadata": {},
   "source": [
    "# Date Conversion"
   ]
  },
  {
   "cell_type": "code",
   "execution_count": 12,
   "metadata": {},
   "outputs": [],
   "source": [
    "ow['datetime'] = pd.to_datetime(ow['created_utc'], unit = 's').sort_values()\n",
    "wow['datetime'] = pd.to_datetime(wow['created_utc'], unit = 's').sort_values()"
   ]
  },
  {
   "cell_type": "code",
   "execution_count": 13,
   "metadata": {},
   "outputs": [
    {
     "data": {
      "text/plain": [
       "19999   2020-04-20 17:54:44\n",
       "19998   2020-04-20 17:58:05\n",
       "19997   2020-04-20 17:58:33\n",
       "19996   2020-04-20 17:59:39\n",
       "19995   2020-04-20 18:00:22\n",
       "                ...        \n",
       "30004   2020-07-17 23:30:16\n",
       "30003   2020-07-17 23:32:27\n",
       "30002   2020-07-17 23:33:28\n",
       "30001   2020-07-17 23:35:24\n",
       "30000   2020-07-17 23:35:52\n",
       "Name: datetime, Length: 40000, dtype: datetime64[ns]"
      ]
     },
     "execution_count": 13,
     "metadata": {},
     "output_type": "execute_result"
    }
   ],
   "source": [
    "ow['datetime'].sort_values()"
   ]
  },
  {
   "cell_type": "markdown",
   "metadata": {},
   "source": [
    "Overwatch data extends from April 20th to July 17th. This is about three months of data."
   ]
  },
  {
   "cell_type": "code",
   "execution_count": 14,
   "metadata": {},
   "outputs": [
    {
     "data": {
      "text/plain": [
       "19999   2020-03-17 20:16:21\n",
       "19998   2020-03-17 20:21:17\n",
       "19997   2020-03-17 20:26:24\n",
       "19996   2020-03-17 20:31:11\n",
       "19995   2020-03-17 20:34:32\n",
       "                ...        \n",
       "30004   2020-07-21 08:03:05\n",
       "30003   2020-07-21 08:04:21\n",
       "30002   2020-07-21 08:04:24\n",
       "30001   2020-07-21 08:07:31\n",
       "30000   2020-07-21 08:07:45\n",
       "Name: datetime, Length: 40000, dtype: datetime64[ns]"
      ]
     },
     "execution_count": 14,
     "metadata": {},
     "output_type": "execute_result"
    }
   ],
   "source": [
    "wow['datetime'].sort_values()"
   ]
  },
  {
   "cell_type": "markdown",
   "metadata": {},
   "source": [
    "WOW data extends from March 17th to July 21st. This is about 4 months of data. While WOW subreddit posts tend to be slightly lengthier and twice as likely to have text than overwatch subreddit posts, the Overwatch subreddit gets posts more often."
   ]
  },
  {
   "cell_type": "markdown",
   "metadata": {},
   "source": [
    "# Cleaning and Some EDA"
   ]
  },
  {
   "cell_type": "code",
   "execution_count": 15,
   "metadata": {},
   "outputs": [],
   "source": [
    "features = ['title', 'selftext', 'datetime', 'subreddit']"
   ]
  },
  {
   "cell_type": "code",
   "execution_count": 16,
   "metadata": {},
   "outputs": [],
   "source": [
    "#both games are made by a company called blizzard\n",
    "bliz = pd.concat([ow[features], wow[features]])"
   ]
  },
  {
   "cell_type": "code",
   "execution_count": 17,
   "metadata": {},
   "outputs": [
    {
     "data": {
      "text/plain": [
       "[removed]    6978\n",
       "[deleted]    3470\n",
       ".              13\n",
       "Oof            12\n",
       "Title           5\n",
       "             ... \n",
       "Question.       1\n",
       "Dire Mall       1\n",
       "e:)             1\n",
       " Weird :D       1\n",
       "**              1\n",
       "Name: selftext, Length: 88, dtype: int64"
      ]
     },
     "execution_count": 17,
     "metadata": {},
     "output_type": "execute_result"
    }
   ],
   "source": [
    "#looking for strings less than 10 characters in selftext\n",
    "bliz[bliz['selftext'].str.len() < 10]['selftext'].value_counts()"
   ]
  },
  {
   "cell_type": "markdown",
   "metadata": {},
   "source": [
    "First we'll remove '[removed]' and '[deleted]' from this column and replace with NaN."
   ]
  },
  {
   "cell_type": "code",
   "execution_count": 18,
   "metadata": {},
   "outputs": [],
   "source": [
    "bliz.loc[bliz['selftext'] == '[removed]', 'selftext'] = np.nan"
   ]
  },
  {
   "cell_type": "code",
   "execution_count": 19,
   "metadata": {},
   "outputs": [],
   "source": [
    "bliz.loc[bliz['selftext'] == '[deleted]', 'selftext'] = np.nan"
   ]
  },
  {
   "cell_type": "code",
   "execution_count": 20,
   "metadata": {},
   "outputs": [],
   "source": [
    "#removes special characters\n",
    "bliz['title'] = bliz['title'].map(lambda x: re.sub(r'[\\.\\?\\!]', '', x))\n",
    "bliz.loc[bliz['selftext'].notnull(),'selftext'] = bliz['selftext'].dropna().map(lambda x: re.sub(r'[\\.\\?\\!]', '', x))\n",
    "bliz.loc[bliz['selftext'].notnull(),'selftext'] = bliz['selftext'].dropna().map(lambda x: re.sub(r'\\n', ' ', x))"
   ]
  },
  {
   "cell_type": "markdown",
   "metadata": {},
   "source": [
    "We can just combine title and selftext into a single column that we'll feed into our model. we'll call this column 'text'."
   ]
  },
  {
   "cell_type": "code",
   "execution_count": 21,
   "metadata": {},
   "outputs": [],
   "source": [
    "#copying string from 'title' into 'text' column.\n",
    "bliz['text'] = bliz['title']\n",
    "#adding string from 'selftext' into 'text' column.\n",
    "bliz.loc[bliz['selftext'].notnull(), 'text'] += (' ' + bliz.loc[bliz['selftext'].notnull(), 'selftext'])"
   ]
  },
  {
   "cell_type": "markdown",
   "metadata": {},
   "source": [
    "We're going to throw out some key words that give away the answer to which subreddit the post comes from. They are 'overwatch', 'ow', and 'warcraft'. We can't throw out 'wow', the acronym for World of Warcraft, since it's also a word."
   ]
  },
  {
   "cell_type": "code",
   "execution_count": 22,
   "metadata": {},
   "outputs": [],
   "source": [
    "#lowercase all text\n",
    "bliz['text'] = bliz['text'].map(lambda x: x.lower())\n",
    "#replace all instances of the word 'overwatch', 'ow', and 'warcraft'\n",
    "bliz['text'] = bliz['text'].map(lambda x:re.sub(r'overwatch', '', x))\n",
    "bliz['text'] = bliz['text'].map(lambda x:re.sub(r'\\sow[\\s\\.]', '', x))\n",
    "bliz['text'] = bliz['text'].map(lambda x:re.sub(r'warcraft', '', x))"
   ]
  },
  {
   "cell_type": "markdown",
   "metadata": {},
   "source": [
    "We're going to convert the target categorical variable to a numeric type."
   ]
  },
  {
   "cell_type": "code",
   "execution_count": 23,
   "metadata": {},
   "outputs": [],
   "source": [
    "#converting the target variable to 1's and 0's.\n",
    "bliz['subreddit'] = bliz['subreddit'].map({'Overwatch': 1, 'wow': 0})"
   ]
  },
  {
   "cell_type": "code",
   "execution_count": 24,
   "metadata": {},
   "outputs": [],
   "source": [
    "X = bliz['text']\n",
    "y = bliz['subreddit']"
   ]
  },
  {
   "cell_type": "markdown",
   "metadata": {},
   "source": [
    "Now we'll train-test split the data. After that, we'll instantiate a count vectorizer in order to get a word count for each tokenized word."
   ]
  },
  {
   "cell_type": "code",
   "execution_count": 25,
   "metadata": {},
   "outputs": [],
   "source": [
    "X_train, X_test, y_train, y_test = train_test_split(X,\n",
    "                                                    y,\n",
    "                                                    test_size=0.33,\n",
    "                                                    random_state=42)"
   ]
  },
  {
   "cell_type": "code",
   "execution_count": 26,
   "metadata": {},
   "outputs": [],
   "source": [
    "cvec = CountVectorizer(stop_words = 'english',\n",
    "                       min_df = 4, \n",
    "                       max_df = 0.9, \n",
    "                       ngram_range = (1,2))"
   ]
  },
  {
   "cell_type": "code",
   "execution_count": 27,
   "metadata": {},
   "outputs": [],
   "source": [
    "X_train = cvec.fit_transform(X_train)"
   ]
  },
  {
   "cell_type": "code",
   "execution_count": 28,
   "metadata": {},
   "outputs": [],
   "source": [
    "X_train_df = pd.DataFrame(X_train.toarray(), columns = cvec.get_feature_names())"
   ]
  },
  {
   "cell_type": "markdown",
   "metadata": {},
   "source": [
    "Let's take a list at some of the top words in the combined reddit posts."
   ]
  },
  {
   "cell_type": "code",
   "execution_count": 29,
   "metadata": {},
   "outputs": [],
   "source": [
    "X_cols = list(X_train_df.columns)"
   ]
  },
  {
   "cell_type": "code",
   "execution_count": 30,
   "metadata": {},
   "outputs": [],
   "source": [
    "top_words = X_train_df.sum().sort_values(ascending = False).head(15)"
   ]
  },
  {
   "cell_type": "code",
   "execution_count": 31,
   "metadata": {},
   "outputs": [
    {
     "data": {
      "image/png": "[encoded data removed]",
      "text/plain": [
       "<Figure size 864x360 with 1 Axes>"
      ]
     },
     "metadata": {
      "needs_background": "light"
     },
     "output_type": "display_data"
    }
   ],
   "source": [
    "plt.figure(figsize = (12,5))\n",
    "plt.bar(x=top_words.index, height=top_words);"
   ]
  },
  {
   "cell_type": "markdown",
   "metadata": {},
   "source": [
    "\"ve\" and \"don\" come from contractions like \"I've\" and \"don't\". CountVectorizer chose to split these words for some reason."
   ]
  },
  {
   "cell_type": "code",
   "execution_count": 32,
   "metadata": {
    "scrolled": true
   },
   "outputs": [
    {
     "data": {
      "image/png": "[encoded data removed]",
      "text/plain": [
       "<Figure size 360x360 with 2 Axes>"
      ]
     },
     "metadata": {
      "needs_background": "light"
     },
     "output_type": "display_data"
    }
   ],
   "source": [
    "plt.figure(figsize = (5, 5))\n",
    "word_corr = pd.DataFrame(X_train_df[list(top_words.index)].corrwith(y_train)).rename(columns={0:'subreddit'})\n",
    "sns.heatmap(word_corr.sort_values('subreddit'), annot = True);"
   ]
  },
  {
   "cell_type": "markdown",
   "metadata": {},
   "source": [
    "The above figure shows how the appearance of each word correlates to which subreddit it belongs to. This doesn't look like it's very useful. Many of the correlations are very close to zero."
   ]
  },
  {
   "cell_type": "markdown",
   "metadata": {},
   "source": [
    "# Fitting a Naive Bayes Model"
   ]
  },
  {
   "cell_type": "markdown",
   "metadata": {},
   "source": [
    "Now we'll fit a Naive Bayes model to the count vectorized data and classify whether it came from the overwatch or wow subreddit."
   ]
  },
  {
   "cell_type": "code",
   "execution_count": 33,
   "metadata": {},
   "outputs": [],
   "source": [
    "nb = MultinomialNB()"
   ]
  },
  {
   "cell_type": "code",
   "execution_count": 34,
   "metadata": {},
   "outputs": [
    {
     "data": {
      "text/plain": [
       "MultinomialNB(alpha=1.0, class_prior=None, fit_prior=True)"
      ]
     },
     "execution_count": 34,
     "metadata": {},
     "output_type": "execute_result"
    }
   ],
   "source": [
    "nb.fit(X_train, y_train)"
   ]
  },
  {
   "cell_type": "code",
   "execution_count": 35,
   "metadata": {},
   "outputs": [
    {
     "data": {
      "text/plain": [
       "0.9352238805970149"
      ]
     },
     "execution_count": 35,
     "metadata": {},
     "output_type": "execute_result"
    }
   ],
   "source": [
    "nb.score(X_train, y_train)"
   ]
  },
  {
   "cell_type": "code",
   "execution_count": 36,
   "metadata": {},
   "outputs": [],
   "source": [
    "X_test = cvec.transform(X_test)"
   ]
  },
  {
   "cell_type": "code",
   "execution_count": 37,
   "metadata": {},
   "outputs": [
    {
     "data": {
      "text/plain": [
       "0.9215909090909091"
      ]
     },
     "execution_count": 37,
     "metadata": {},
     "output_type": "execute_result"
    }
   ],
   "source": [
    "nb.score(X_test, y_test)"
   ]
  },
  {
   "cell_type": "markdown",
   "metadata": {},
   "source": [
    "The accuracy of the model is fairly good!"
   ]
  },
  {
   "cell_type": "code",
   "execution_count": 38,
   "metadata": {},
   "outputs": [
    {
     "data": {
      "image/png": "[encoded data removed]",
      "text/plain": [
       "<Figure size 432x288 with 2 Axes>"
      ]
     },
     "metadata": {
      "needs_background": "light"
     },
     "output_type": "display_data"
    }
   ],
   "source": [
    "plot_confusion_matrix(nb, X_test, y_test, cmap='Blues', values_format='d');"
   ]
  },
  {
   "cell_type": "code",
   "execution_count": 39,
   "metadata": {},
   "outputs": [],
   "source": [
    "y_pred = nb.predict(X_test)\n",
    "tn, fp, fn, tp = confusion_matrix(y_test, y_pred).ravel()"
   ]
  },
  {
   "cell_type": "code",
   "execution_count": 40,
   "metadata": {},
   "outputs": [
    {
     "data": {
      "text/plain": [
       "0.9273361650485437"
      ]
     },
     "execution_count": 40,
     "metadata": {},
     "output_type": "execute_result"
    }
   ],
   "source": [
    "tp/(tp + fn) #sensitivity"
   ]
  },
  {
   "cell_type": "code",
   "execution_count": 41,
   "metadata": {},
   "outputs": [
    {
     "data": {
      "text/plain": [
       "0.9158595641646489"
      ]
     },
     "execution_count": 41,
     "metadata": {},
     "output_type": "execute_result"
    }
   ],
   "source": [
    "tn/(tn + fp) #specificity"
   ]
  },
  {
   "cell_type": "markdown",
   "metadata": {},
   "source": [
    "Specificity and sensitivity are very close to the accuracy! This tells me that the model is fairly neutral and not biased towards one subreddit over the other."
   ]
  },
  {
   "cell_type": "markdown",
   "metadata": {},
   "source": [
    "# Fitting a Random Forest Model"
   ]
  },
  {
   "cell_type": "markdown",
   "metadata": {},
   "source": [
    "Here, we'll fit a random forest model and do a grid search of the best hyper-parameters."
   ]
  },
  {
   "cell_type": "code",
   "execution_count": 42,
   "metadata": {},
   "outputs": [
    {
     "name": "stdout",
     "output_type": "stream",
     "text": [
      "CPU times: user 12.8 s, sys: 176 ms, total: 13 s\n",
      "Wall time: 14.1 s\n"
     ]
    },
    {
     "data": {
      "text/plain": [
       "0.8504850746268656"
      ]
     },
     "execution_count": 42,
     "metadata": {},
     "output_type": "execute_result"
    }
   ],
   "source": [
    "%%time\n",
    "rf = RandomForestClassifier(random_state = 42, max_depth = 40)\n",
    "rf.fit(X_train, y_train)\n",
    "rf.score(X_train, y_train)"
   ]
  },
  {
   "cell_type": "code",
   "execution_count": 43,
   "metadata": {},
   "outputs": [
    {
     "data": {
      "text/plain": [
       "0.8383712121212121"
      ]
     },
     "execution_count": 43,
     "metadata": {},
     "output_type": "execute_result"
    }
   ],
   "source": [
    "rf.score(X_test, y_test)"
   ]
  },
  {
   "cell_type": "markdown",
   "metadata": {},
   "source": [
    "The random forest classifier takes significantly much longer to run compared to the Naive bayes model and with worst results. This is probably due to the fact that we have too many columns in order for this model to work effectively. The number of features to consider when splitting is $\\sqrt{n_{features}}$. We have more than 53,000 columns, meaning that the model has to consider 230 features when splitting! Overall, this model is not effective for the type of data we're analzying. "
   ]
  },
  {
   "cell_type": "markdown",
   "metadata": {},
   "source": [
    "# What's the Buzz in the Overwatch Subreddit?"
   ]
  },
  {
   "cell_type": "markdown",
   "metadata": {},
   "source": [
    "There are currently 32 heroes in overwatch. I would like find out for blizzard which heroes get talked about the most."
   ]
  },
  {
   "cell_type": "code",
   "execution_count": 44,
   "metadata": {},
   "outputs": [],
   "source": [
    "heroes = ['ana', 'ashe', 'baptiste', 'bastion', 'brigitte', 'dva', 'doomfist', 'echo', 'genji', 'hanzo',\n",
    "         'junkrat', 'lucio', 'mccree', 'mei', 'mercy', 'moira', 'orisa', 'pharah', 'reaper', 'reinhardt',\n",
    "         'roadhog', 'sigma', 'soldier', 'sombra', 'symmetra', 'torbjorn', 'tracer', 'widowmaker', 'winston',\n",
    "         'ball', 'zarya', 'zenyatta']"
   ]
  },
  {
   "cell_type": "markdown",
   "metadata": {},
   "source": [
    "Question: How many posts mentions each hero?\n",
    "\n",
    "We can simply do a search of the hero name in the data. There is a small problem with this because many heroes have nicknames. The dictionary below contains common nicknames for some heroes."
   ]
  },
  {
   "cell_type": "code",
   "execution_count": 45,
   "metadata": {},
   "outputs": [],
   "source": [
    "nicknames = {\n",
    "    'baptiste':'bap',\n",
    "    'brigitte':'brig',\n",
    "    'doomfist':'doom',\n",
    "    'junkrat':'junk',\n",
    "    'reinhardt':'rein',\n",
    "    'roadhog':'hog',\n",
    "    'torbjorn':'torb',\n",
    "    'widowmaker':'widow',\n",
    "    'ball':'hammond',\n",
    "    'zenyatta':'zen'\n",
    "}"
   ]
  },
  {
   "cell_type": "code",
   "execution_count": 46,
   "metadata": {},
   "outputs": [],
   "source": [
    "#looking only at overwatch subreddit data from bliz dataframe.\n",
    "ow_text = bliz[bliz['subreddit'] == 1][['text', 'datetime']]"
   ]
  },
  {
   "cell_type": "code",
   "execution_count": 47,
   "metadata": {},
   "outputs": [],
   "source": [
    "#This function counts how many posts mentions each hero.\n",
    "def post_count(df):\n",
    "    # \"mentions\" contains the number of posts that mentions that hero.\n",
    "    mentions = {}\n",
    "    for hero in heroes:\n",
    "        mentions[hero] = df[df['text'].str.contains(r'\\b'+hero+ r'\\b')].shape[0]\n",
    "\n",
    "        # if the hero has a nickname, search for that nickname and add to the number of mentio\n",
    "        if hero in nicknames.keys():\n",
    "            mentions[hero] += df[df['text'].str.contains(r'\\b'+nicknames[hero]+ r'\\b')].shape[0]\n",
    "\n",
    "    #sorting the dictionary\n",
    "    mentions = {k: v for k, v in sorted(mentions.items(), key=lambda item: item[1])}\n",
    "    return mentions"
   ]
  },
  {
   "cell_type": "code",
   "execution_count": 48,
   "metadata": {},
   "outputs": [],
   "source": [
    "#sorting the dictionary\n",
    "mentions = post_count(ow_text)"
   ]
  },
  {
   "cell_type": "code",
   "execution_count": 49,
   "metadata": {},
   "outputs": [
    {
     "data": {
      "image/png": "[encoded data removed]",
      "text/plain": [
       "<Figure size 432x576 with 1 Axes>"
      ]
     },
     "metadata": {
      "needs_background": "light"
     },
     "output_type": "display_data"
    }
   ],
   "source": [
    "plt.figure(figsize = (6, 8))\n",
    "plt.xlabel('Number of Posts Mentioning Hero')\n",
    "plt.barh(y = list(mentions.keys())[-10:], width = list(mentions.values())[-10:])\n",
    "plt.title('Genji and Reinhardt are the Most Talked About Overwatch Heroes in the last three months');"
   ]
  },
  {
   "cell_type": "markdown",
   "metadata": {},
   "source": [
    "Genji an Reinhardt have been the most talked about "
   ]
  },
  {
   "cell_type": "code",
   "execution_count": 50,
   "metadata": {},
   "outputs": [
    {
     "data": {
      "image/png": "[encoded data removed]",
      "text/plain": [
       "<Figure size 432x576 with 1 Axes>"
      ]
     },
     "metadata": {
      "needs_background": "light"
     },
     "output_type": "display_data"
    }
   ],
   "source": [
    "plt.figure(figsize = (6, 8))\n",
    "plt.xlabel('Number of Posts Mentioning Hero')\n",
    "plt.barh(y = list(mentions.keys())[:10], width = list(mentions.values())[:10])\n",
    "plt.title('Symmetra is the least Talked About Overwatch Hero');"
   ]
  },
  {
   "cell_type": "markdown",
   "metadata": {},
   "source": [
    "We can see that symmetra is the least talked about hero. Perhaps the character isn't very interesting to play or talk about. Let's pull up some dates and look at how things have changed over time."
   ]
  },
  {
   "cell_type": "code",
   "execution_count": 51,
   "metadata": {},
   "outputs": [],
   "source": [
    "dates = ow_text['datetime'].sort_values().dt.date.unique()"
   ]
  },
  {
   "cell_type": "markdown",
   "metadata": {},
   "source": [
    "Let's look at the data across time. Was genji always talked about or is his \"popularity\" something that happened over time? Below, we're going to look at the number of posts mentioning his name for each day, from June 23 to July 16. We're removing the first and last days since we didn't completely gather all the data from those two days."
   ]
  },
  {
   "cell_type": "code",
   "execution_count": 52,
   "metadata": {},
   "outputs": [],
   "source": [
    "# dictionaries for holding the number of posts that mention Genji for each day\n",
    "ment_gen = {} \n",
    "# same as above but for reinhardt\n",
    "ment_rein = {} \n",
    "\n",
    "for day in dates[1:-1]:\n",
    "    #Search for overwatch posts from a particular day\n",
    "    text_day = ow_text[ow_text['datetime'].dt.date == day]\n",
    "    \n",
    "    #Count number of posts mentioning Genji\n",
    "    num_post_gen = text_day[text_day['text'].str.contains(r'\\bgenji\\b')].shape[0] \n",
    "    \n",
    "    #Count number of posts mentioning Reinhardt\n",
    "    num_post_rein = text_day[text_day['text'].str.contains(r'rein')].shape[0] \n",
    "    \n",
    "    #appending results to dictionary\n",
    "    ment_gen[day] = num_post_gen\n",
    "    ment_rein[day] = num_post_rein"
   ]
  },
  {
   "cell_type": "code",
   "execution_count": 53,
   "metadata": {
    "scrolled": true
   },
   "outputs": [
    {
     "data": {
      "image/png": "[encoded data removed]",
      "text/plain": [
       "<Figure size 936x360 with 1 Axes>"
      ]
     },
     "metadata": {
      "needs_background": "light"
     },
     "output_type": "display_data"
    },
    {
     "data": {
      "image/png": "[encoded data removed]",
      "text/plain": [
       "<Figure size 936x360 with 1 Axes>"
      ]
     },
     "metadata": {
      "needs_background": "light"
     },
     "output_type": "display_data"
    }
   ],
   "source": [
    "#plots time data for Genji\n",
    "plt.figure(figsize = (13, 5))\n",
    "ax = sns.lineplot(x=list(ment_gen.keys()),y=list(ment_gen.values()), color = 'green')\n",
    "plt.xticks(rotation=15)\n",
    "plt.ylabel('Number of Posts Mentioning Genji')\n",
    "plt.title('posts about Genji went up in the beginning of June')\n",
    "\n",
    "#plots time data for Reinhardt\n",
    "plt.figure(figsize = (13, 5))\n",
    "ax = sns.lineplot(x=list(ment_rein.keys()),y=list(ment_rein.values()), color = 'brown', alpha = 0.7)\n",
    "plt.xticks(rotation=15)\n",
    "plt.ylabel('Number of Posts Mentioning Reinhardt')\n",
    "\n",
    "ax.legend(labels = ['Genji', 'Reinhardt'], loc = 'upper center')\n",
    "plt.show()\n"
   ]
  },
  {
   "cell_type": "markdown",
   "metadata": {},
   "source": [
    "We can see from the plot above that there is a jump in \"chatter\" about Genji going from May to June. Let's compare data for May and for June."
   ]
  },
  {
   "cell_type": "code",
   "execution_count": 54,
   "metadata": {},
   "outputs": [],
   "source": [
    "#creating an additional column for month\n",
    "ow_text['month'] = ow_text['datetime'].dt.date.map(lambda x:x.month)"
   ]
  },
  {
   "cell_type": "code",
   "execution_count": 55,
   "metadata": {},
   "outputs": [],
   "source": [
    "may = ow_text[ow_text['month'] == 5]\n",
    "jun = ow_text[ow_text['month'] == 6]"
   ]
  },
  {
   "cell_type": "code",
   "execution_count": 56,
   "metadata": {},
   "outputs": [],
   "source": [
    "may_mentions = post_count(may)\n",
    "jun_mentions = post_count(jun)"
   ]
  },
  {
   "cell_type": "code",
   "execution_count": 57,
   "metadata": {},
   "outputs": [
    {
     "data": {
      "image/png": "[encoded data removed]",
      "text/plain": [
       "<Figure size 432x288 with 1 Axes>"
      ]
     },
     "metadata": {
      "needs_background": "light"
     },
     "output_type": "display_data"
    }
   ],
   "source": [
    "plt.figure(figsize = (6, 4))\n",
    "plt.xlabel('Number of Posts Mentioning Hero')\n",
    "barlist = plt.barh(y = list(may_mentions.keys())[-5:], width = list(may_mentions.values())[-5:])\n",
    "barlist[0].set_color('g')\n",
    "plt.title('Reinhardt was the most talked about hero in May');"
   ]
  },
  {
   "cell_type": "code",
   "execution_count": 58,
   "metadata": {},
   "outputs": [
    {
     "data": {
      "image/png": "[encoded data removed]",
      "text/plain": [
       "<Figure size 432x288 with 1 Axes>"
      ]
     },
     "metadata": {
      "needs_background": "light"
     },
     "output_type": "display_data"
    }
   ],
   "source": [
    "plt.figure(figsize = (6, 4))\n",
    "plt.xlabel('Number of Posts Mentioning Hero')\n",
    "barlist = plt.barh(y = list(jun_mentions.keys())[-5:], width = list(jun_mentions.values())[-5:])\n",
    "barlist[4].set_color('g')\n",
    "plt.title('Genji was the most talked about hero in June');"
   ]
  },
  {
   "cell_type": "markdown",
   "metadata": {},
   "source": [
    "Doing some research online, we can see that Genji recieved some buffs on June 2nd in the experimental mode. A link can be found here: https://dotesports.com/overwatch/news/overwatchs-newest-experimental-card-tests-genji-changes. A buff is when the developer decides to make a character stronger. The experimental mode in Overwatch let's players test out possible changes to the game that may or may not go live at a later date. On June 15th, the buffs to Genji went live (https://dotesports.com/overwatch/news/priority-queue-genji-buffs-added-in-overwatchs-latest-live-patch)."
   ]
  },
  {
   "cell_type": "markdown",
   "metadata": {},
   "source": [
    "# Sentiment Analysis"
   ]
  },
  {
   "cell_type": "markdown",
   "metadata": {},
   "source": [
    "Let's look at text that both the word \"Genji\" and \"nerf\"."
   ]
  },
  {
   "cell_type": "code",
   "execution_count": 59,
   "metadata": {
    "scrolled": false
   },
   "outputs": [
    {
     "name": "stdout",
     "output_type": "stream",
     "text": [
      "Number of posts that contain \"genji\", and \"nerf\": 34\n"
     ]
    }
   ],
   "source": [
    "is_genji = ow_text['text'].str.contains(r'\\bgenji\\b')\n",
    "is_nerf = ow_text['text'].str.contains(r'\\bnerf\\b')\n",
    "genji_nerf = ow_text[is_genji & is_nerf][['text', 'month']]\n",
    "print('Number of posts that contain \"genji\", and \"nerf\":',genji_nerf.shape[0])"
   ]
  },
  {
   "cell_type": "markdown",
   "metadata": {},
   "source": [
    "I've looked for all posts containing the words \"genji\" and \"nerf\". The word \"nerf\" is the opposite of \"buff\". Judging from player feedback, there is a vocal group of players who want nerf Genji or reverse some of the changes. Note that all of these posts occurred in the month of June. "
   ]
  },
  {
   "cell_type": "code",
   "execution_count": 60,
   "metadata": {
    "scrolled": true
   },
   "outputs": [
    {
     "data": {
      "image/png": "[encoded data removed]",
      "text/plain": [
       "<Figure size 360x288 with 1 Axes>"
      ]
     },
     "metadata": {
      "needs_background": "light"
     },
     "output_type": "display_data"
    }
   ],
   "source": [
    "plt.figure(figsize= (5, 4))\n",
    "plt.hist(genji_nerf['month'])\n",
    "plt.xlabel('Month')\n",
    "plt.xticks(ticks = [4,5,6,7], labels = ['April', 'May', 'June', 'July'])\n",
    "plt.ylabel('Posts')\n",
    "plt.title('Posts containing \"nerf\" and \"Genji\" shot up in June');"
   ]
  },
  {
   "cell_type": "markdown",
   "metadata": {},
   "source": [
    "There is an increase in the number of calls by the player base for Genji to be nerfed. In order to keep the game healthy, I'd recommend that blizzard nerf Genji slightly or revert some of the buffs that they made in early June. "
   ]
  },
  {
   "cell_type": "code",
   "execution_count": null,
   "metadata": {},
   "outputs": [],
   "source": []
  }
 ],
 "metadata": {
  "kernelspec": {
   "display_name": "Python 3",
   "language": "python",
   "name": "python3"
  },
  "language_info": {
   "codemirror_mode": {
    "name": "ipython",
    "version": 3
   },
   "file_extension": ".py",
   "mimetype": "text/x-python",
   "name": "python",
   "nbconvert_exporter": "python",
   "pygments_lexer": "ipython3",
   "version": "3.7.6"
  }
 },
 "nbformat": 4,
 "nbformat_minor": 4
}
